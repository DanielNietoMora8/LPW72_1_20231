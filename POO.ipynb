{
  "nbformat": 4,
  "nbformat_minor": 0,
  "metadata": {
    "colab": {
      "provenance": []
    },
    "kernelspec": {
      "name": "python3",
      "display_name": "Python 3"
    },
    "language_info": {
      "name": "python"
    }
  },
  "cells": [
    {
      "cell_type": "code",
      "execution_count": 1,
      "metadata": {
        "id": "9l6oJLZJ-w6L"
      },
      "outputs": [],
      "source": [
        "import numpy as np\n",
        "import zipfile"
      ]
    },
    {
      "cell_type": "code",
      "source": [
        "#funciaon o metodo aciotoion\n",
        "# atributio es lo caracteristicas general\n",
        "\n",
        "class mascota():\n",
        "  def __init__(self,color,nombre:str=\"sin asignar\",especie=\"perro\",tamaño=\"medio\",vacuna=False):\n",
        "    self.nombre=nombre #actricbuto de la casee\n",
        "    self.color = color\n",
        "    self.especie = especie\n",
        "    self.tamaño= tamaño\n",
        "    self.edad = 0\n",
        "    self.vacuna=False\n",
        "    self.__fecha_vacuna=0\n",
        "\n",
        "\n",
        "\n",
        "  def regristrar(self,nombre):\n",
        "    self.nombre = nombre\n",
        "\n",
        "\n",
        "  def vacunar(self):\n",
        "    if (self.vacuna == False):\n",
        "      print(\"vacuanndo mascota\")\n",
        "      self.vacuna = True\n",
        "      print(\"vacunado\")\n",
        "      self.__fecha_vacuna = np.random.randint(1,12,1)\n",
        "      print(self.__fecha_vacuna)\n",
        "\n",
        "    else:\n",
        "      print(\"su mascota no esta vacuan d,vuelva \")\n",
        "\n",
        "\n",
        "\n",
        "  def asignar_edad(self,edad):\n",
        "    self.edad = edad\n",
        "  def seguimeinto_vacuna(self,fecha):\n",
        "    if((self.__fecha_vacuna - fecha)<0):\n",
        "      self.vacunar()\n",
        "    else:\n",
        "      print(\"su mascota esta al dia con la vacuna\")\n",
        "\n",
        "\n",
        "  def datos_mascota(self):\n",
        "    print(\"nombre: \",self.nombre)\n",
        "    print(\"especie: \",self.especie)\n",
        "    print(\"edad: \",self.edad)\n",
        "    print(\"vacuna: \",self.vacuna)\n",
        "    print(\"fecha vacuna: \",self.__fecha_vacuna)\n",
        "    print(\"tamaño: \",self.tamaño)"
      ],
      "metadata": {
        "id": "sDjD9qZ1_bci"
      },
      "execution_count": 2,
      "outputs": []
    },
    {
      "cell_type": "code",
      "source": [
        "perro=mascota(color=\"blanco\",nombre=\"Lorenzo\")\n"
      ],
      "metadata": {
        "id": "gYALuheJPrNl"
      },
      "execution_count": 3,
      "outputs": []
    },
    {
      "cell_type": "code",
      "source": [
        "perro.datos_mascota()"
      ],
      "metadata": {
        "colab": {
          "base_uri": "https://localhost:8080/"
        },
        "id": "nKxBWaL_QOvb",
        "outputId": "1dbf2b39-80d7-4c70-d014-49ac13fe9958"
      },
      "execution_count": 4,
      "outputs": [
        {
          "output_type": "stream",
          "name": "stdout",
          "text": [
            "nombre:  Lorenzo\n",
            "especie:  perro\n",
            "edad:  0\n",
            "vacuna:  False\n",
            "fecha vacuna:  0\n",
            "tamaño:  medio\n"
          ]
        }
      ]
    },
    {
      "cell_type": "code",
      "source": [
        "perro.asignar_edad(5)"
      ],
      "metadata": {
        "id": "ilYZBpZOSfll"
      },
      "execution_count": 5,
      "outputs": []
    },
    {
      "cell_type": "code",
      "source": [
        "perro.vacunar()"
      ],
      "metadata": {
        "colab": {
          "base_uri": "https://localhost:8080/"
        },
        "id": "3oZb5npxSDlL",
        "outputId": "ad7a0407-d08b-4b12-d2f2-9b54daa8884d"
      },
      "execution_count": 6,
      "outputs": [
        {
          "output_type": "stream",
          "name": "stdout",
          "text": [
            "vacuanndo mascota\n",
            "vacunado\n",
            "[8]\n"
          ]
        }
      ]
    },
    {
      "cell_type": "code",
      "source": [
        "perro.seguimeinto_vacuna()"
      ],
      "metadata": {
        "colab": {
          "base_uri": "https://localhost:8080/",
          "height": 176
        },
        "id": "ZHWNMK8JSJzT",
        "outputId": "2fef3566-3d44-4cb5-f463-c8c55763cc50"
      },
      "execution_count": 10,
      "outputs": [
        {
          "output_type": "error",
          "ename": "TypeError",
          "evalue": "ignored",
          "traceback": [
            "\u001b[0;31m---------------------------------------------------------------------------\u001b[0m",
            "\u001b[0;31mTypeError\u001b[0m                                 Traceback (most recent call last)",
            "\u001b[0;32m<ipython-input-10-bfc6eaa322ad>\u001b[0m in \u001b[0;36m<cell line: 1>\u001b[0;34m()\u001b[0m\n\u001b[0;32m----> 1\u001b[0;31m \u001b[0mperro\u001b[0m\u001b[0;34m.\u001b[0m\u001b[0mseguimeinto_vacuna\u001b[0m\u001b[0;34m(\u001b[0m\u001b[0;34m)\u001b[0m\u001b[0;34m\u001b[0m\u001b[0;34m\u001b[0m\u001b[0m\n\u001b[0m",
            "\u001b[0;31mTypeError\u001b[0m: mascota.seguimeinto_vacuna() missing 1 required positional argument: 'fecha'"
          ]
        }
      ]
    },
    {
      "cell_type": "code",
      "source": [
        "gato.edad = 12\n",
        "gato.edad"
      ],
      "metadata": {
        "colab": {
          "base_uri": "https://localhost:8080/"
        },
        "id": "w60zirKoLXiF",
        "outputId": "e5161aad-06f9-420a-81cb-8646cb21f95f"
      },
      "execution_count": 9,
      "outputs": [
        {
          "output_type": "execute_result",
          "data": {
            "text/plain": [
              "12"
            ]
          },
          "metadata": {},
          "execution_count": 9
        }
      ]
    },
    {
      "cell_type": "code",
      "source": [
        "gato = mascota(color=\"blanco\",especie=\"gato\")\n",
        "gato.color\n",
        "gato.regristrar(\"julina\")\n",
        "\n"
      ],
      "metadata": {
        "id": "tBMPTSFkJAjp"
      },
      "execution_count": 8,
      "outputs": []
    },
    {
      "cell_type": "code",
      "source": [
        "\\documentclass{article}\n",
        "\\usepackage[utf8]{inputenc}\n",
        "\\usepackage{amsmath}\n",
        "\n",
        "\\title{Informe sobre Redes Neuronales Artificiales}\n",
        "\\author{Tú Nombre}\n",
        "\\date{\\today}\n",
        "\n",
        "\\begin{document}\n",
        "\\maketitle\n",
        "\n",
        "\\section{Introducción}\n",
        "Las redes neuronales artificiales (RNA) son modelos matemáticos y computacionales inspirados en la estructura y función del cerebro humano. Se utilizan en una variedad de aplicaciones en aprendizaje automático y procesamiento de datos.\n",
        "\n",
        "En este informe, exploraremos conceptos clave relacionados con las RNA y presentaremos una ecuación que describe el funcionamiento de una neurona artificial.\n",
        "\n",
        "\\section{Modelo de una Neurona Artificial}\n",
        "Una neurona artificial en una red neuronal se puede representar mediante una ecuación matemática simple. La salida de una neurona se calcula como:\n",
        "\n",
        "\\begin{equation}\n",
        "    y = f(w_1x_1 + w_2x_2 + \\ldots + w_nx_n + b)\n",
        "\\end{equation}\n",
        "\n",
        "Donde:\n",
        "- $y$ es la salida de la neurona.\n",
        "- $f(\\cdot)$ es la función de activación.\n",
        "- $w_1, w_2, \\ldots, w_n$ son los pesos de las conexiones.\n",
        "- $x_1, x_2, \\ldots, x_n$ son las entradas.\n",
        "- $b$ es el sesgo.\n",
        "\n",
        "\\end{document}\n",
        "\n",
        "figuaras ,ecuasciaones tablas , intrisuc m,discuso bciocgarfica , conlcausiones\n",
        "\n"
      ],
      "metadata": {
        "id": "nI4Z6_73yYZ8"
      },
      "execution_count": null,
      "outputs": []
    }
  ]
}