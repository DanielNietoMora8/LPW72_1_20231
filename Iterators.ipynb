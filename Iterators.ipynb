{
  "nbformat": 4,
  "nbformat_minor": 0,
  "metadata": {
    "colab": {
      "provenance": []
    },
    "kernelspec": {
      "name": "python3",
      "display_name": "Python 3"
    },
    "language_info": {
      "name": "python"
    }
  },
  "cells": [
    {
      "cell_type": "code",
      "execution_count": null,
      "metadata": {
        "id": "zPwenGxNUAPb"
      },
      "outputs": [],
      "source": [
        "import numpy as np"
      ]
    },
    {
      "cell_type": "markdown",
      "source": [
        "## Iterables\n",
        "\n",
        "El protocolo ```Iterable``` se usa por tipos donde es posible procesar sus contenidos de uno en uno, en orden. Un ```Iterable``` es un objeto que va a proporcionar un Iterator que puede ser usado para realizar este proceso.\n",
        "\n",
        "Hay muchos tipos iterables en Python incluyendo List, Sets, Dictionaries, Tuples, etc. Todos ellos son contenedores iterables que pueden proporcionar un iterador.\n",
        "\n",
        "Para ser un tipo iterable solo es necesario implementar el método ```__iter__()``` (que es el único método en el protocolo ```Iterable```). Este método debe proporcionar una referencia al objeto ```Iterator```. Esta referencia puede ser al propio tipo de dato o puede ser a cualquier otro tipo que implemente el protocolo ```Iterator```.\n",
        "\n",
        "\n",
        "## Iteradores\n",
        "\n",
        "Un iterador es un objeto que devuelve una secuencia de valores. Esta secuencia puede ser finita en longitud o infinita (aunque mucho iteradores orientados a contenedores proporcionan un conjunto fijo de valores).\n",
        "\n",
        "El protocolo ```Iterator``` especifica el método ```__next__()```. Este método debe devolver el siguiente elemento de la secuencia o lanzar una excepción de tipo StopIteration para indicar que no existen más valores.\n",
        "\n",
        "Como ejemplo vamos a crear una clase llamada ```Pares``` que devuelva números pares entre 0 y un determinado límite. Este nuevo tipo va a actuar simultaneamente como ```Iterable``` y como ```Iterator``` al implementar ambos protocolos.\n",
        "\n"
      ],
      "metadata": {
        "id": "-BZx6v5eUw2z"
      }
    },
    {
      "cell_type": "code",
      "source": [
        "class Pares(object):\n",
        "\n",
        "    def __init__(self, limite):\n",
        "        self.limite = limite\n",
        "        self.valor = 0\n",
        "\n",
        "    def __iter__(self):\n",
        "        return self\n",
        "\n",
        "    def __next__(self):\n",
        "        if self.valor > self.limite:\n",
        "            raise StopIteration\n",
        "        else:\n",
        "            valor_actual = self.valor\n",
        "            self.valor += 2\n",
        "            return valor_actual"
      ],
      "metadata": {
        "id": "JtKTzusxUv3q"
      },
      "execution_count": 2,
      "outputs": []
    },
    {
      "cell_type": "markdown",
      "source": [
        "## Usando la clase Pares con un for()"
      ],
      "metadata": {
        "id": "nH-nwz5QYTC1"
      }
    },
    {
      "cell_type": "code",
      "source": [
        "class Potencias(object):\n",
        "\n",
        "    def __init__(self, inicio: int=0, limite=10):\n",
        "        self.limite = limite\n",
        "        self.valor = inicio\n",
        "\n",
        "    def __iter__(self):\n",
        "        return self\n",
        "\n",
        "    def __next__(self):\n",
        "        if self.valor > self.limite:\n",
        "            raise StopIteration\n",
        "        else:\n",
        "            valor_actual = self.valor\n",
        "            self.valor *= 3\n",
        "            return valor_actual"
      ],
      "metadata": {
        "id": "PtPYlGCELvwJ"
      },
      "execution_count": 5,
      "outputs": []
    },
    {
      "cell_type": "code",
      "source": [
        "for numero in Potencias(1,300):\n",
        "    print(numero, end=', ')\n",
        "print('\\nFin')"
      ],
      "metadata": {
        "colab": {
          "base_uri": "https://localhost:8080/"
        },
        "id": "DMNdyHcDYRlV",
        "outputId": "791abee6-b9a1-447e-a206-9481529d7e85"
      },
      "execution_count": 9,
      "outputs": [
        {
          "output_type": "stream",
          "name": "stdout",
          "text": [
            "1, 3, 9, 27, 81, 243, \n",
            "Fin\n"
          ]
        }
      ]
    },
    {
      "cell_type": "markdown",
      "source": [
        "```Generadores```\n",
        "Un generador (Generator) es una función especial que se puede usar para generar una secuencia de valores para iterar sobre ellos a demanda. Para ello se utiliza la palabra clave ```yield```. Esta palabra clave solo se puede utilizar dentro de una función o de un método.\n",
        "\n",
        "Cuando se ejecuta yield, la ejecución de la función se suspende y se devuelve el valor que acompaña a ```yield```. La ejecución de la función generador se activará de nuevo en la siguiente llamada a partir del punto donde se suspendió.\n",
        "\n",
        "Veamos un ejemplo sencillo:"
      ],
      "metadata": {
        "id": "bKvgRNgQL203"
      }
    },
    {
      "cell_type": "code",
      "source": [
        "def genera_numeros():\n",
        "    yield 1\n",
        "    yield 2\n",
        "    yield 3\n",
        "\n",
        "for numero in genera_numeros():\n",
        "    print(numero, end=', ')\n",
        "print('Fin')"
      ],
      "metadata": {
        "colab": {
          "base_uri": "https://localhost:8080/"
        },
        "id": "6hzdV072YaMj",
        "outputId": "3899521c-4ba0-4d78-a44e-e1a385e92315"
      },
      "execution_count": 10,
      "outputs": [
        {
          "output_type": "stream",
          "name": "stdout",
          "text": [
            "1, 2, 3, Fin\n"
          ]
        }
      ]
    },
    {
      "cell_type": "markdown",
      "source": [
        "La función genera_numeros es una función especial que devuelve un objeto Generator que es el que genera los valores requeridos para la iteración del for.\n",
        "\n",
        "Veamos el mismo ejemplo enriquecido para que nos aclare el orden de ejecución de las cosas:"
      ],
      "metadata": {
        "id": "jgJ3UszgMTXU"
      }
    },
    {
      "cell_type": "code",
      "source": [
        "import time\n",
        "def genera_numeros():\n",
        "    print('Inicio')\n",
        "    print('Sigo en 1')\n",
        "    yield 1\n",
        "    print('Siguiente')\n",
        "    yield 2\n",
        "    print('Otro mas')\n",
        "    yield 3\n",
        "    print('Termino')\n",
        "\n",
        "for numero in genera_numeros():\n",
        "    time.sleep(3)\n",
        "    print(numero)\n",
        "print('Fin')"
      ],
      "metadata": {
        "colab": {
          "base_uri": "https://localhost:8080/"
        },
        "id": "XUH-llf3MSLd",
        "outputId": "5d618ab3-7bc2-425f-903b-b9424664179e"
      },
      "execution_count": 12,
      "outputs": [
        {
          "output_type": "stream",
          "name": "stdout",
          "text": [
            "Inicio\n",
            "Sigo en 1\n",
            "1\n",
            "Siguiente\n",
            "2\n",
            "Otro mas\n",
            "3\n",
            "Termino\n",
            "Fin\n"
          ]
        }
      ]
    },
    {
      "cell_type": "code",
      "source": [
        "# a = pares_hasta(40)\n",
        "f = next(iter(a))\n",
        "f"
      ],
      "metadata": {
        "colab": {
          "base_uri": "https://localhost:8080/"
        },
        "id": "ld3-IMY-NobI",
        "outputId": "54687bfe-4477-47ea-a759-c0b3557547d1"
      },
      "execution_count": 47,
      "outputs": [
        {
          "output_type": "execute_result",
          "data": {
            "text/plain": [
              "18"
            ]
          },
          "metadata": {},
          "execution_count": 47
        }
      ]
    },
    {
      "cell_type": "code",
      "source": [
        "def pares_hasta(limite):\n",
        "    valor = 0\n",
        "    while valor <= limite:\n",
        "        yield valor\n",
        "        valor += 2\n",
        "\n",
        "for numero in pares_hasta(10):\n",
        "    print(numero, end=', ')\n",
        "print('Fin')"
      ],
      "metadata": {
        "colab": {
          "base_uri": "https://localhost:8080/"
        },
        "id": "LB6jHllLMaRt",
        "outputId": "531f8160-f97b-4698-e3ae-d40485e6a558"
      },
      "execution_count": 18,
      "outputs": [
        {
          "output_type": "stream",
          "name": "stdout",
          "text": [
            "0, 2, 4, 6, 8, 10, Fin\n"
          ]
        }
      ]
    },
    {
      "cell_type": "markdown",
      "source": [
        "No es necesario un bucle for para trabajar con una función generador. El objeto generador que devuelve la función soporta la función ```next```. Esta función se invoca pasando como argumento el objeto generador y devuelve el siguiente valor de la secuencia."
      ],
      "metadata": {
        "id": "V1CgrfF3Nrhl"
      }
    },
    {
      "cell_type": "code",
      "source": [
        "def pares_hasta(limite):\n",
        "    valor = 0\n",
        "    while valor <= limite:\n",
        "        yield valor\n",
        "        valor += 2\n",
        "\n",
        "pares = pares_hasta(10)\n",
        "\n"
      ],
      "metadata": {
        "id": "11MZDppVMhAR"
      },
      "execution_count": null,
      "outputs": []
    },
    {
      "cell_type": "code",
      "source": [
        "a = Pares(10)"
      ],
      "metadata": {
        "id": "rMv6-RkDb4sM"
      },
      "execution_count": null,
      "outputs": []
    },
    {
      "cell_type": "code",
      "source": [
        "if 7 > 5:\n",
        "     raise stop\n",
        "else:\n",
        "    pass"
      ],
      "metadata": {
        "colab": {
          "base_uri": "https://localhost:8080/",
          "height": 218
        },
        "id": "HNNmI4zBbcB8",
        "outputId": "d134952d-40a4-46d7-b117-f22d46290a54"
      },
      "execution_count": null,
      "outputs": [
        {
          "output_type": "error",
          "ename": "NameError",
          "evalue": "ignored",
          "traceback": [
            "\u001b[0;31m---------------------------------------------------------------------------\u001b[0m",
            "\u001b[0;31mNameError\u001b[0m                                 Traceback (most recent call last)",
            "\u001b[0;32m<ipython-input-57-8f5653e69475>\u001b[0m in \u001b[0;36m<module>\u001b[0;34m\u001b[0m\n\u001b[1;32m      1\u001b[0m \u001b[0;32mif\u001b[0m \u001b[0;36m7\u001b[0m \u001b[0;34m>\u001b[0m \u001b[0;36m5\u001b[0m\u001b[0;34m:\u001b[0m\u001b[0;34m\u001b[0m\u001b[0;34m\u001b[0m\u001b[0m\n\u001b[0;32m----> 2\u001b[0;31m      \u001b[0;32mraise\u001b[0m \u001b[0mstop\u001b[0m\u001b[0;34m\u001b[0m\u001b[0;34m\u001b[0m\u001b[0m\n\u001b[0m\u001b[1;32m      3\u001b[0m \u001b[0;32melse\u001b[0m\u001b[0;34m:\u001b[0m\u001b[0;34m\u001b[0m\u001b[0;34m\u001b[0m\u001b[0m\n\u001b[1;32m      4\u001b[0m     \u001b[0;32mpass\u001b[0m\u001b[0;34m\u001b[0m\u001b[0;34m\u001b[0m\u001b[0m\n",
            "\u001b[0;31mNameError\u001b[0m: name 'stop' is not defined"
          ]
        }
      ]
    },
    {
      "cell_type": "code",
      "source": [
        "for i in range(0,10):\n",
        "    print(i)\n",
        "    if i>10:\n",
        "        break"
      ],
      "metadata": {
        "colab": {
          "base_uri": "https://localhost:8080/"
        },
        "id": "mC2HyJmrWyfB",
        "outputId": "f8959166-e760-4805-b138-248822b27af5"
      },
      "execution_count": null,
      "outputs": [
        {
          "output_type": "stream",
          "name": "stdout",
          "text": [
            "0\n",
            "1\n",
            "2\n",
            "3\n",
            "4\n",
            "5\n",
            "6\n",
            "7\n",
            "8\n",
            "9\n"
          ]
        }
      ]
    },
    {
      "cell_type": "code",
      "source": [
        "class vehiculo():\n",
        "    def __init__(self, modelo, marca, nombre_p):\n",
        "        self.modelo = modelo\n",
        "        self.marca = marca\n",
        "        self.nombre_p = nombre_p\n",
        "        self.__lista = [nombre_p]\n",
        "\n",
        "    def matricular(self, nombre_p2):\n",
        "        self.nombre_p = nombre_p2\n",
        "        self.__lista.append(nombre_p2)\n",
        "\n",
        "    def mostrar_propietarios(self):\n",
        "        for i in (self.__lista):\n",
        "            print(f\"{i} \\n\")\n",
        "\n",
        "suzuki = vehiculo(2020, \"suzuki\", \"Daniel\")\n",
        "suzuki.matricular(\"Carlos\")\n",
        "suzuki.matricular(\"Fernando\")\n",
        "suzuki.mostrar_propietarios()\n",
        "suzuki.matricular(\"Edwin\")\n",
        "suzuki.mostrar_propietarios()\n",
        "\n"
      ],
      "metadata": {
        "colab": {
          "base_uri": "https://localhost:8080/"
        },
        "id": "a8XqM5xOhiET",
        "outputId": "49b84de7-0e3f-4d1c-e889-54a35e6ee213"
      },
      "execution_count": null,
      "outputs": [
        {
          "output_type": "stream",
          "name": "stdout",
          "text": [
            "Daniel \n",
            "\n",
            "Carlos \n",
            "\n",
            "Fernando \n",
            "\n",
            "Daniel \n",
            "\n",
            "Carlos \n",
            "\n",
            "Fernando \n",
            "\n",
            "Edwin \n",
            "\n"
          ]
        }
      ]
    },
    {
      "cell_type": "code",
      "source": [
        "def chequeo(comb, temperatura, cinturon):\n",
        "    aux_cint = False\n",
        "    aux_comb = False\n",
        "    aux_temp = False\n",
        "\n",
        "    if comb < 0.05:\n",
        "        print(\"Combustible no esta ok\")\n",
        "\n",
        "        aux_comb = True\n",
        "\n",
        "    elif temperatura <10 or temperatura >80:\n",
        "        print(\"temperatura no esta ok\")\n",
        "\n",
        "        aux_temp = True\n",
        "\n",
        "    elif cinturon != \"abrochado\":\n",
        "        print(\"Cinturon no esta ok\")\n",
        "        aux_cint = True\n",
        "\n",
        "    else:\n",
        "        print(\"todo ok\")"
      ],
      "metadata": {
        "id": "3ZAvHrooixYm"
      },
      "execution_count": null,
      "outputs": []
    },
    {
      "cell_type": "code",
      "source": [
        "chequeo(0.02, 30, \"abrochado\")"
      ],
      "metadata": {
        "colab": {
          "base_uri": "https://localhost:8080/"
        },
        "id": "N3JELtoUq7Kt",
        "outputId": "01d18057-0f7a-4ea6-839c-f5ffd88260e7"
      },
      "execution_count": null,
      "outputs": [
        {
          "output_type": "stream",
          "name": "stdout",
          "text": [
            "Combustible no esta ok\n"
          ]
        }
      ]
    }
  ]
}